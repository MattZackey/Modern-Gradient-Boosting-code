{
 "cells": [
  {
   "cell_type": "code",
   "execution_count": 1,
   "id": "2efabd25",
   "metadata": {},
   "outputs": [],
   "source": [
    "#Packages\n",
    "import pandas as pd\n",
    "import numpy as np\n",
    "import scipy.stats as stats"
   ]
  },
  {
   "cell_type": "code",
   "execution_count": 100,
   "id": "42f32d0b",
   "metadata": {},
   "outputs": [],
   "source": [
    "#Generating AdaBoost Overlap data\n",
    "\n",
    "def Gen_1(n):\n",
    "    #Generating  data inputs for class: 1\n",
    "    X = np.full((n, p), 0, dtype=float)\n",
    "    i = 0\n",
    "    while(i < n):\n",
    "        a = np.random.normal(loc=0, scale=1, size= p)\n",
    "        if(sum(np.power(a,2))>12):\n",
    "            X[i,:] = a\n",
    "            i = i + 1\n",
    "    return(X)\n",
    "\n",
    "np.random.seed(42)\n",
    "\n",
    "#Generating training data \n",
    "p = 10\n",
    "n_train = 2000\n",
    "X_train = np.full((n_train, p), 0, dtype = float)\n",
    "X_train[0:1000,:] =  np.random.normal(loc=0, scale=1, size= 1000*p).reshape(1000,p) #class 0\n",
    "X_train[1000:2000,:] = Gen_1(1000) #class 1\n",
    "y_train = np.concatenate((np.full(1000,0), np.full(1000,1)))\n",
    "\n",
    "#Generating test data\n",
    "n_test = 10000\n",
    "X_test = np.full((n_test, p), 0, dtype = float)\n",
    "X_test[0:5000,:] =  np.random.normal(loc=0, scale=1, size= 5000*p).reshape(5000,p) #class 0\n",
    "X_test[5000:10000,:] = Gen_1(5000) #class 1\n",
    "y_test = np.concatenate((np.full(5000,0), np.full(5000,1)))"
   ]
  },
  {
   "cell_type": "code",
   "execution_count": 101,
   "id": "d78f8abe",
   "metadata": {},
   "outputs": [],
   "source": [
    "Overlap_data = {'X_train' : X_train,\n",
    "                'y_train' : y_train,\n",
    "                'X_test' : X_test,\n",
    "                'y_test' : y_test}"
   ]
  }
 ],
 "metadata": {
  "kernelspec": {
   "display_name": "Python 3 (ipykernel)",
   "language": "python",
   "name": "python3"
  },
  "language_info": {
   "codemirror_mode": {
    "name": "ipython",
    "version": 3
   },
   "file_extension": ".py",
   "mimetype": "text/x-python",
   "name": "python",
   "nbconvert_exporter": "python",
   "pygments_lexer": "ipython3",
   "version": "3.9.13"
  }
 },
 "nbformat": 4,
 "nbformat_minor": 5
}
