{
 "cells": [
  {
   "cell_type": "code",
   "execution_count": 17,
   "id": "7d75ad32",
   "metadata": {},
   "outputs": [],
   "source": [
    "#Packages\n",
    "import pandas as pd\n",
    "import numpy as np\n",
    "import xgboost as xgb\n",
    "import matplotlib.pyplot as plt\n",
    "from sklearn.datasets import load_boston\n",
    "from sklearn.tree import DecisionTreeRegressor\n",
    "from sklearn.model_selection import train_test_split, KFold, GridSearchCV\n",
    "from sklearn.datasets import fetch_california_housing\n",
    "from sklearn.metrics import mean_squared_error"
   ]
  },
  {
   "cell_type": "code",
   "execution_count": 45,
   "id": "cd5bc9be",
   "metadata": {},
   "outputs": [],
   "source": [
    "#Loading the California housing dataset\n",
    "cali = fetch_california_housing(as_frame=True)"
   ]
  },
  {
   "cell_type": "code",
   "execution_count": 46,
   "id": "202f4f34",
   "metadata": {},
   "outputs": [],
   "source": [
    "#Training/test split\n",
    "X = pd.DataFrame(cali.data)\n",
    "y = cali.target\n",
    "X_train_cali, X_test_cali, y_train_cali, y_test_cali = train_test_split(X, y, random_state=65, test_size=0.2)"
   ]
  },
  {
   "cell_type": "code",
   "execution_count": null,
   "id": "d1a08105",
   "metadata": {},
   "outputs": [],
   "source": [
    "#Fitting a boosting model \n",
    "xgb_mod=xgb.XGBRegressor(objective='reg:squarederror',\n",
    "                         seed=33,\n",
    "                         eta=0.1,\n",
    "                         max_depth=2,\n",
    "                         n_estimators=1000,\n",
    "                         verbose=1)\n",
    "\n",
    "xgb_mod_err=xgb_mod.fit(X_train_cali,\n",
    "                        y_train_cali,\n",
    "                        eval_metric='rmse',\n",
    "                        eval_set=[(X_test_cali,y_test_cali)])\n",
    "\n",
    "x = np.square(xgb_mod_err.evals_result()['validation_0']['rmse'])"
   ]
  },
  {
   "cell_type": "code",
   "execution_count": null,
   "id": "985ceec0",
   "metadata": {},
   "outputs": [],
   "source": [
    "#Fitting decision tree using cross-complexity pruning with 5-fold cross-validation\n",
    "reg_dt = DecisionTreeRegressor(max_depth=10)\n",
    "path_ccp = reg_dt.cost_complexity_pruning_path(X_train_cali,y_train_cali)\n",
    "kfold = KFold(5,shuffle=True ,random_state =10)\n",
    "grid = GridSearchCV(reg_dt ,{'ccp_alpha': path_ccp .ccp_alphas},refit=True ,cv=kfold ,scoring='neg_mean_squared_error')\n",
    "reg_fit = grid.fit(X_train_cali,y_train_cali)\n",
    "best_reg_fit = grid.best_estimator_\n",
    "reg_predict = best_reg_fit.predict(X_test_cali)\n",
    "np.sqrt(mean_squared_error(y_true = y_test_cali, y_pred= reg_predict))"
   ]
  }
 ],
 "metadata": {
  "kernelspec": {
   "display_name": "Python 3 (ipykernel)",
   "language": "python",
   "name": "python3"
  },
  "language_info": {
   "codemirror_mode": {
    "name": "ipython",
    "version": 3
   },
   "file_extension": ".py",
   "mimetype": "text/x-python",
   "name": "python",
   "nbconvert_exporter": "python",
   "pygments_lexer": "ipython3",
   "version": "3.9.13"
  }
 },
 "nbformat": 4,
 "nbformat_minor": 5
}
