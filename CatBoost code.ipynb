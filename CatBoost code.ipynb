{
 "cells": [
  {
   "cell_type": "code",
   "execution_count": 1,
   "id": "882af066",
   "metadata": {},
   "outputs": [],
   "source": [
    "import pandas as pd\n",
    "import numpy as np\n",
    "import itertools\n",
    "import catboost as cat\n",
    "\n",
    "from sklearn.model_selection import train_test_split\n",
    "from sklearn.metrics import confusion_matrix, roc_auc_score, plot_confusion_matrix, f1_score, accuracy_score, matthews_corrcoef\n",
    "from catboost import cv, Pool\n",
    "from sklearn.model_selection import GridSearchCV, StratifiedKFold"
   ]
  },
  {
   "cell_type": "code",
   "execution_count": 10,
   "id": "fe05c8ae",
   "metadata": {},
   "outputs": [],
   "source": [
    "def catboost_tune_class(param_comb, X, y, num_iterations, colsample, class_imbal, learning_rate, boosting_type, categorical_feat, cv_metric):\n",
    "\n",
    "    param_comb = np.hstack((param_comb, np.zeros((param_comb.shape[0], 2))))\n",
    "    \n",
    "    #Creating dataset\n",
    "    ind_cat = X.dtypes == object\n",
    "    cat_feat = X.columns[ind_cat].tolist()\n",
    "    cat_dat = Pool(X, y, cat_features=cat_feat)\n",
    "\n",
    "    #Checking if class imbalance\n",
    "    if(class_imbal == True): \n",
    "        weight_pos = sum(y == 0)/sum(y == 1)\n",
    "    else: \n",
    "        weight_pos = 1\n",
    "\n",
    "    for i in range(param_comb.shape[0]):\n",
    "  \n",
    "        cats_params = {\n",
    "            'iterations' : num_iterations,\n",
    "            'learning_rate' : learning_rate,\n",
    "            'depth' : int(param_comb[i, 0]),\n",
    "            'rsm' : colsample,\n",
    "            'loss_function' : 'Logloss',\n",
    "            'leaf_estimation_iterations' : 1, \n",
    "            'leaf_estimation_method' : 'Newton', \n",
    "            'random_seed' : 63,\n",
    "            'verbose' : 10,\n",
    "            'metric_period' : 1,\n",
    "            'bagging_temperature' : 1,\n",
    "            'boosting_type' : boosting_type,\n",
    "            'simple_ctr' : 'BinarizedTargetMeanValue',\n",
    "            'bootstrap_type' : 'Bayesian',\n",
    "            'sampling_frequency' : 'PerTree',\n",
    "            'scale_pos_weight' : weight_pos,\n",
    "            'grow_policy' : 'SymmetricTree',\n",
    "            'score_function' : 'Cosine',\n",
    "            'custom_loss' : cv_metric, \n",
    "            'thread_count' : 1,\n",
    "            }\n",
    "        \n",
    "        cat_cv = cat.cv(params = cats_params,\n",
    "                        dtrain = cat_dat,\n",
    "                        nfold = 5,\n",
    "                        stratified = True,\n",
    "                        partition_random_seed = 543,\n",
    "                        early_stopping_rounds = 200,\n",
    "                        verbose = False)\n",
    "        \n",
    "        if(cv_metric == 'AUC'):\n",
    "            num_tree = np.argmax(cat_cv.loc[:,'test-AUC-mean']) + 1 #number of trees\n",
    "            opt_val = max(cat_cv.loc[:,'test-AUC-mean'])\n",
    "        else:\n",
    "            num_tree = np.argmin(cat_cv.loc[:,'test-Logloss-mean']) + 1 #number of trees\n",
    "            opt_val = min(cat_cv.loc[:,'test-Logloss-mean'])\n",
    "\n",
    "        param_comb[i,1:3] = num_tree, opt_val\n",
    "        \n",
    "        print(i)\n",
    "    \n",
    "    return(param_comb)"
   ]
  },
  {
   "cell_type": "code",
   "execution_count": 11,
   "id": "6bc308e7",
   "metadata": {},
   "outputs": [],
   "source": [
    "def catboost_fit_class(param_opt, X, y, colsample, class_imbal, learning_rate, boosting_type, categorical_feat):\n",
    "\n",
    "    #Checking if class imbalance\n",
    "    if(class_imbal == True): \n",
    "        weight_pos = sum(y==0)/sum(y==1)\n",
    "    else: \n",
    "        weight_pos = 1\n",
    "    \n",
    "    clf_cat = cat.CatBoostClassifier(iterations = int(param_opt[1]),\n",
    "                                     learning_rate = learning_rate,\n",
    "                                     depth = int(param_opt[0]),\n",
    "                                     rsm = colsample,\n",
    "                                     loss_function = 'Logloss',\n",
    "                                     leaf_estimation_iterations = 1, \n",
    "                                     leaf_estimation_method = 'Newton', \n",
    "                                     random_seed = 63,\n",
    "                                     verbose = False,\n",
    "                                     metric_period = 1,\n",
    "                                     bagging_temperature = 1,\n",
    "                                     boosting_type = boosting_type,\n",
    "                                     simple_ctr = 'BinarizedTargetMeanValue',\n",
    "                                     bootstrap_type = 'Bayesian',\n",
    "                                     sampling_frequency = 'PerTree',\n",
    "                                     scale_pos_weight = weight_pos,\n",
    "                                     grow_policy = 'SymmetricTree',\n",
    "                                     score_function = 'Cosine')\n",
    "\n",
    "    ind_cat = X.dtypes == object\n",
    "    cat_feat = X.columns[ind_cat].tolist()\n",
    "    clf_cat.fit(X, y, cat_features=cat_feat)\n",
    "    \n",
    "    return(clf_cat)"
   ]
  },
  {
   "cell_type": "code",
   "execution_count": 12,
   "id": "46048613",
   "metadata": {},
   "outputs": [],
   "source": [
    "#Calculating errors of models\n",
    "def errors_model(mod, X_test, y_test):\n",
    "    \n",
    "    pred_class = mod.predict(X_test) #Class predictions\n",
    "    acc = accuracy_score(y_test, pred_class) #Accuracy\n",
    "    f1 = f1_score(y_test, pred_class) #F1 score \n",
    "    matt = matthews_corrcoef(y_test, pred_class) #Matthews Correlation Coefficient\n",
    "    pred_prob = mod.predict_proba(X_test)[:,1] #Probability predictions\n",
    "    auc = roc_auc_score(y_test, pred_prob) #AUC\n",
    "    errs_mod = [acc, f1, matt, auc]\n",
    "    return(errs_mod)"
   ]
  },
  {
   "cell_type": "code",
   "execution_count": 5,
   "id": "6fc0dbb2",
   "metadata": {},
   "outputs": [],
   "source": [
    "params_depth = np.array(range(1, 11)).reshape(-1,1)"
   ]
  },
  {
   "cell_type": "code",
   "execution_count": 13,
   "id": "5ec58817",
   "metadata": {},
   "outputs": [],
   "source": [
    "params_depth = np.array(range(1, 2)).reshape(-1,1)"
   ]
  },
  {
   "cell_type": "markdown",
   "id": "7e10291c",
   "metadata": {},
   "source": [
    "# AdaBoost Overlap"
   ]
  },
  {
   "cell_type": "code",
   "execution_count": 6,
   "id": "f6c92a9e",
   "metadata": {},
   "outputs": [],
   "source": [
    "#loading dataset and setting up data. \n",
    "import pickle\n",
    "file_name = 'Overlap_data.pickle'\n",
    "file = open(file_name,'rb')\n",
    "Overlap_data = pickle.load(file)\n",
    "file.close()\n",
    "\n",
    "X_train_over = Overlap_data['X_train']\n",
    "y_train_over = Overlap_data['y_train']\n",
    "X_test_over = Overlap_data['X_test']\n",
    "y_test_over = Overlap_data['y_test']"
   ]
  },
  {
   "cell_type": "code",
   "execution_count": 14,
   "id": "f53ae9cf",
   "metadata": {},
   "outputs": [
    {
     "name": "stderr",
     "output_type": "stream",
     "text": [
      "Change of simpleCtr will not affect combinations ctrs.\n",
      "Change of simpleCtr will not affect combinations ctrs.\n",
      "Change of simpleCtr will not affect combinations ctrs.\n"
     ]
    },
    {
     "name": "stdout",
     "output_type": "stream",
     "text": [
      "Training on fold [0/5]\n",
      "\n",
      "bestTest = 0.5339605159\n",
      "bestIteration = 2501\n",
      "\n",
      "Training on fold [1/5]\n",
      "\n",
      "bestTest = 0.5101141235\n",
      "bestIteration = 3573\n",
      "\n",
      "Training on fold [2/5]\n",
      "\n",
      "bestTest = 0.5082684733\n",
      "bestIteration = 3002\n",
      "\n",
      "Training on fold [3/5]\n",
      "\n",
      "bestTest = 0.5036473636\n",
      "bestIteration = 2767\n",
      "\n",
      "Training on fold [4/5]\n",
      "\n",
      "bestTest = 0.524127989\n",
      "bestIteration = 2283\n",
      "\n",
      "0\n"
     ]
    }
   ],
   "source": [
    "#Ordered vs Plain mode of boosting.\n",
    "\n",
    "#Tuning parameter values for boosting mode = Plain.\n",
    "##########################################################################################################################\n",
    "cv_plain_over = catboost_tune_class(param_comb = params_depth, \n",
    "                                    X = pd.DataFrame(X_train_over), \n",
    "                                    y = y_train_over, \n",
    "                                    num_iterations = 5000, \n",
    "                                    colsample = 1, \n",
    "                                    class_imbal = False, \n",
    "                                    learning_rate = 0.05, \n",
    "                                    boosting_type = 'Plain',\n",
    "                                    categorical_feat = False,\n",
    "                                    cv_metric = 'Logloss')\n",
    "##########################################################################################################################\n",
    "\n",
    "#Fitting optimal model for boosting mode = Plain and calculating errors of model.\n",
    "##########################################################################################################################\n",
    "opt_ind_plain = np.argmin(cv_plain_over[:,2])\n",
    "\n",
    "catmod_plain_over = catboost_fit_class(param_opt = cv_plain_over[opt_ind_plain,0:5], \n",
    "                                     X = pd.DataFrame(X_train_over), \n",
    "                                     y = y_train_over,  \n",
    "                                     colsample = 1, \n",
    "                                     class_imbal = False, \n",
    "                                     learning_rate = 0.05, \n",
    "                                     boosting_type = 'Plain', \n",
    "                                     categorical_feat = False)\n",
    "\n",
    "errs_plain_over = errors_model(mod = catmod_plain_over, \n",
    "                             X_test = X_test_over, \n",
    "                             y_test = y_test_over)\n",
    "##########################################################################################################################\n",
    "\n",
    "\n",
    "#Tuning parameter values for boosting mode = Ordered.\n",
    "##########################################################################################################################\n",
    "cv_ordered_over = catboost_tune_class(param_comb = params_depth, \n",
    "                                      X = pd.DataFrame(X_train_over), \n",
    "                                      y = y_train_over, \n",
    "                                      num_iterations = 5000, \n",
    "                                      colsample = 1, \n",
    "                                      class_imbal = False, \n",
    "                                      learning_rate = 0.05, \n",
    "                                      boosting_type = 'Ordered', \n",
    "                                      categorical_feat = False,\n",
    "                                      cv_metric = 'Logloss')\n",
    "##########################################################################################################################\n",
    "\n",
    "\n",
    "#Fitting optimal model for boosting mode = Ordered and calculating errors of model.\n",
    "##########################################################################################################################\n",
    "opt_ind_ordered = np.argmin(cv_ordered_over[:,2])\n",
    "\n",
    "catmod_ordered_over = catboost_fit_class(param_opt = cv_ordered_over[opt_ind_ordered,0:5], \n",
    "                                         X = pd.DataFrame(X_train_over), \n",
    "                                         y = y_train_over, \n",
    "                                         colsample = 1, \n",
    "                                         class_imbal = False, \n",
    "                                         learning_rate = 0.05, \n",
    "                                         boosting_type = 'Ordered', \n",
    "                                         categorical_feat = False)\n",
    "\n",
    "#Calculating errors of model\n",
    "errs_ordered_over = errors_model(mod = catmod_ordered_over, \n",
    "                                 X_test = X_test_over, \n",
    "                                 y_test = y_test_over)\n",
    "##########################################################################################################################"
   ]
  },
  {
   "cell_type": "code",
   "execution_count": null,
   "id": "209dba88",
   "metadata": {},
   "outputs": [],
   "source": []
  },
  {
   "cell_type": "code",
   "execution_count": 21,
   "id": "3830310a",
   "metadata": {},
   "outputs": [
    {
     "data": {
      "text/plain": [
       "array([[   1.  , 3574.  ,    0.77,    0.78,    0.54,    0.84],\n",
       "       [   1.  , 3829.  ,    0.76,    0.77,    0.52,    0.83]])"
      ]
     },
     "execution_count": 21,
     "metadata": {},
     "output_type": "execute_result"
    }
   ],
   "source": [
    "#Table of parameters and test errors for Ordered vs Plain mode of boosting.\n",
    "test_err_plain = np.append(cv_plain_over[opt_ind_plain,[0,1]],errs_plain_over)\n",
    "test_err_ordered = np.append(cv_ordered_over[opt_ind_ordered,[0,1]],errs_ordered_over)\n",
    "test_err_over = np.row_stack((test_err_plain,test_err_ordered))\n",
    "np.round(test_err_over,2)"
   ]
  },
  {
   "cell_type": "code",
   "execution_count": null,
   "id": "647a8713",
   "metadata": {},
   "outputs": [],
   "source": []
  },
  {
   "cell_type": "markdown",
   "id": "7bc548f4",
   "metadata": {},
   "source": [
    "# Phoneme"
   ]
  },
  {
   "cell_type": "code",
   "execution_count": 22,
   "id": "d15df277",
   "metadata": {},
   "outputs": [],
   "source": [
    "params_depth = np.array([10]).reshape(-1,1)"
   ]
  },
  {
   "cell_type": "code",
   "execution_count": 23,
   "id": "6742a018",
   "metadata": {},
   "outputs": [],
   "source": [
    "#Importing and setting up data\n",
    "file_path_ph = 'C:\\\\Users\\\\Matt\\\\Documents\\\\Python code thesis\\\\Datasets\\\\phoneme.csv'\n",
    "df_ph = pd.read_csv(file_path_ph)\n",
    "X_ph = df_ph.drop('target',axis=1).copy()\n",
    "y_ph = df_ph['target'].copy()\n",
    "X_train_ph, X_test_ph, y_train_ph, y_test_ph = train_test_split(X_ph, y_ph, random_state=65, stratify=y_ph, test_size=0.2)"
   ]
  },
  {
   "cell_type": "code",
   "execution_count": 24,
   "id": "51ae1998",
   "metadata": {},
   "outputs": [
    {
     "name": "stderr",
     "output_type": "stream",
     "text": [
      "Change of simpleCtr will not affect combinations ctrs.\n",
      "Change of simpleCtr will not affect combinations ctrs.\n",
      "Change of simpleCtr will not affect combinations ctrs.\n"
     ]
    },
    {
     "name": "stdout",
     "output_type": "stream",
     "text": [
      "Training on fold [0/5]\n",
      "\n",
      "bestTest = 0.2244846391\n",
      "bestIteration = 1807\n",
      "\n",
      "Training on fold [1/5]\n",
      "\n",
      "bestTest = 0.2665431216\n",
      "bestIteration = 1385\n",
      "\n",
      "Training on fold [2/5]\n",
      "\n",
      "bestTest = 0.2712592201\n",
      "bestIteration = 1263\n",
      "\n",
      "Training on fold [3/5]\n",
      "\n",
      "bestTest = 0.3229107711\n",
      "bestIteration = 753\n",
      "\n",
      "Training on fold [4/5]\n",
      "\n",
      "bestTest = 0.273125865\n",
      "bestIteration = 1120\n",
      "\n",
      "0\n"
     ]
    }
   ],
   "source": [
    "#Tuning parameter values for boosting mode = Plain \n",
    "cv_plain_ph = catboost_tune_class(param_comb = params_depth, \n",
    "                                  X = X_train_ph, \n",
    "                                  y = y_train_ph, \n",
    "                                  num_iterations = 5000, \n",
    "                                  colsample = 1, \n",
    "                                  class_imbal = True, \n",
    "                                  learning_rate = 0.05, \n",
    "                                  boosting_type = 'Plain', \n",
    "                                  categorical_feat = False,\n",
    "                                  cv_metric = 'AUC')"
   ]
  },
  {
   "cell_type": "code",
   "execution_count": 25,
   "id": "69822fef",
   "metadata": {},
   "outputs": [
    {
     "name": "stderr",
     "output_type": "stream",
     "text": [
      "Change of simpleCtr will not affect combinations ctrs.\n",
      "Change of simpleCtr will not affect combinations ctrs.\n",
      "Change of simpleCtr will not affect combinations ctrs.\n"
     ]
    }
   ],
   "source": [
    "#Fitting optimal model for boosting mode = Plain \n",
    "opt_ind_plain = np.argmax(cv_plain_ph[:,2])\n",
    "\n",
    "catmod_plain_ph = catboost_fit_class(param_opt = cv_plain_ph[opt_ind_plain,0:5], \n",
    "                                     X = X_train_ph, \n",
    "                                     y = y_train_ph,  \n",
    "                                     colsample = 1, \n",
    "                                     class_imbal = True, \n",
    "                                     learning_rate = 0.05, \n",
    "                                     boosting_type = 'Plain', \n",
    "                                     categorical_feat = False)\n",
    "\n",
    "#Calculating errors of model\n",
    "errs_plain_ph = errors_model(mod = catmod_plain_ph, \n",
    "                             X_test = X_test_ph, \n",
    "                             y_test = y_test_ph)"
   ]
  },
  {
   "cell_type": "code",
   "execution_count": 26,
   "id": "4ba891c6",
   "metadata": {},
   "outputs": [
    {
     "name": "stderr",
     "output_type": "stream",
     "text": [
      "Change of simpleCtr will not affect combinations ctrs.\n",
      "Change of simpleCtr will not affect combinations ctrs.\n",
      "Change of simpleCtr will not affect combinations ctrs.\n"
     ]
    },
    {
     "name": "stdout",
     "output_type": "stream",
     "text": [
      "Training on fold [0/5]\n"
     ]
    },
    {
     "ename": "KeyboardInterrupt",
     "evalue": "",
     "output_type": "error",
     "traceback": [
      "\u001b[1;31m---------------------------------------------------------------------------\u001b[0m",
      "\u001b[1;31mKeyboardInterrupt\u001b[0m                         Traceback (most recent call last)",
      "\u001b[1;32m~\\AppData\\Local\\Temp\\ipykernel_8572\\3446006942.py\u001b[0m in \u001b[0;36m<module>\u001b[1;34m\u001b[0m\n\u001b[0;32m      1\u001b[0m \u001b[1;31m#Tuning parameter values for boosting mode = Ordered\u001b[0m\u001b[1;33m\u001b[0m\u001b[1;33m\u001b[0m\u001b[0m\n\u001b[1;32m----> 2\u001b[1;33m cv_ordered_ph = catboost_tune_class(param_comb = params_depth, \n\u001b[0m\u001b[0;32m      3\u001b[0m                                     \u001b[0mX\u001b[0m \u001b[1;33m=\u001b[0m \u001b[0mX_train_ph\u001b[0m\u001b[1;33m,\u001b[0m\u001b[1;33m\u001b[0m\u001b[1;33m\u001b[0m\u001b[0m\n\u001b[0;32m      4\u001b[0m                                     \u001b[0my\u001b[0m \u001b[1;33m=\u001b[0m \u001b[0my_train_ph\u001b[0m\u001b[1;33m,\u001b[0m\u001b[1;33m\u001b[0m\u001b[1;33m\u001b[0m\u001b[0m\n\u001b[0;32m      5\u001b[0m                                     \u001b[0mnum_iterations\u001b[0m \u001b[1;33m=\u001b[0m \u001b[1;36m5000\u001b[0m\u001b[1;33m,\u001b[0m\u001b[1;33m\u001b[0m\u001b[1;33m\u001b[0m\u001b[0m\n",
      "\u001b[1;32m~\\AppData\\Local\\Temp\\ipykernel_8572\\932300985.py\u001b[0m in \u001b[0;36mcatboost_tune_class\u001b[1;34m(param_comb, X, y, num_iterations, colsample, class_imbal, learning_rate, boosting_type, categorical_feat, cv_metric)\u001b[0m\n\u001b[0;32m     40\u001b[0m             }\n\u001b[0;32m     41\u001b[0m \u001b[1;33m\u001b[0m\u001b[0m\n\u001b[1;32m---> 42\u001b[1;33m         cat_cv = cat.cv(params = cats_params,\n\u001b[0m\u001b[0;32m     43\u001b[0m                         \u001b[0mdtrain\u001b[0m \u001b[1;33m=\u001b[0m \u001b[0mcat_dat\u001b[0m\u001b[1;33m,\u001b[0m\u001b[1;33m\u001b[0m\u001b[1;33m\u001b[0m\u001b[0m\n\u001b[0;32m     44\u001b[0m                         \u001b[0mnfold\u001b[0m \u001b[1;33m=\u001b[0m \u001b[1;36m5\u001b[0m\u001b[1;33m,\u001b[0m\u001b[1;33m\u001b[0m\u001b[1;33m\u001b[0m\u001b[0m\n",
      "\u001b[1;32m~\\anaconda3\\lib\\site-packages\\catboost\\core.py\u001b[0m in \u001b[0;36mcv\u001b[1;34m(pool, params, dtrain, iterations, num_boost_round, fold_count, nfold, inverted, partition_random_seed, seed, shuffle, logging_level, stratified, as_pandas, metric_period, verbose, verbose_eval, plot, plot_file, early_stopping_rounds, save_snapshot, snapshot_file, snapshot_interval, metric_update_interval, folds, type, return_models, log_cout, log_cerr)\u001b[0m\n\u001b[0;32m   6653\u001b[0m     \u001b[1;32mwith\u001b[0m \u001b[0mlog_fixup\u001b[0m\u001b[1;33m(\u001b[0m\u001b[0mlog_cout\u001b[0m\u001b[1;33m,\u001b[0m \u001b[0mlog_cerr\u001b[0m\u001b[1;33m)\u001b[0m\u001b[1;33m,\u001b[0m \u001b[0mplot_wrapper\u001b[0m\u001b[1;33m(\u001b[0m\u001b[0mplot\u001b[0m\u001b[1;33m,\u001b[0m \u001b[0mplot_file\u001b[0m\u001b[1;33m=\u001b[0m\u001b[0mplot_file\u001b[0m\u001b[1;33m,\u001b[0m \u001b[0mplot_title\u001b[0m\u001b[1;33m=\u001b[0m\u001b[1;34m'Cross-validation plot'\u001b[0m\u001b[1;33m,\u001b[0m \u001b[0mtrain_dirs\u001b[0m\u001b[1;33m=\u001b[0m\u001b[0mplot_dirs\u001b[0m\u001b[1;33m)\u001b[0m\u001b[1;33m:\u001b[0m\u001b[1;33m\u001b[0m\u001b[1;33m\u001b[0m\u001b[0m\n\u001b[0;32m   6654\u001b[0m         \u001b[1;32mif\u001b[0m \u001b[1;32mnot\u001b[0m \u001b[0mreturn_models\u001b[0m\u001b[1;33m:\u001b[0m\u001b[1;33m\u001b[0m\u001b[1;33m\u001b[0m\u001b[0m\n\u001b[1;32m-> 6655\u001b[1;33m             return _cv(params, pool, fold_count, inverted, partition_random_seed, shuffle, stratified,\n\u001b[0m\u001b[0;32m   6656\u001b[0m                     metric_update_interval, as_pandas, folds, type, return_models)\n\u001b[0;32m   6657\u001b[0m         \u001b[1;32melse\u001b[0m\u001b[1;33m:\u001b[0m\u001b[1;33m\u001b[0m\u001b[1;33m\u001b[0m\u001b[0m\n",
      "\u001b[1;32m_catboost.pyx\u001b[0m in \u001b[0;36m_catboost._cv\u001b[1;34m()\u001b[0m\n",
      "\u001b[1;32m_catboost.pyx\u001b[0m in \u001b[0;36m_catboost._cv\u001b[1;34m()\u001b[0m\n",
      "\u001b[1;31mKeyboardInterrupt\u001b[0m: "
     ]
    }
   ],
   "source": [
    "#Tuning parameter values for boosting mode = Ordered\n",
    "cv_ordered_ph = catboost_tune_class(param_comb = params_depth, \n",
    "                                    X = X_train_ph, \n",
    "                                    y = y_train_ph, \n",
    "                                    num_iterations = 5000, \n",
    "                                    colsample = 1, \n",
    "                                    class_imbal = True, \n",
    "                                    learning_rate = 0.05, \n",
    "                                    boosting_type = 'Ordered', \n",
    "                                    categorical_feat = False,\n",
    "                                    cv_metric = 'AUC')"
   ]
  },
  {
   "cell_type": "code",
   "execution_count": null,
   "id": "a915b78a",
   "metadata": {},
   "outputs": [],
   "source": [
    "#Fitting optimal model for boosting mode = Ordered\n",
    "opt_ind_ordered = np.argmax(cv_ordered_ph[:,2])\n",
    "\n",
    "catmod_ordered_ph = catboost_fit_class(param_opt = cv_ordered_ph[opt_ind_ordered,0:5], \n",
    "                                       X = X_train_ph, \n",
    "                                       y = y_train_ph, \n",
    "                                       colsample = 1, \n",
    "                                       class_imbal = True, \n",
    "                                       learning_rate = 0.1, \n",
    "                                       boosting_type = 'Ordered', \n",
    "                                       categorical_feat = False)\n",
    "\n",
    "#Calculating errors of model\n",
    "errs_ordered_ph = errors_model(mod = catmod_ordered_ph, \n",
    "                               X_test = X_test_ph, \n",
    "                               y_test = y_test_ph)"
   ]
  },
  {
   "cell_type": "code",
   "execution_count": null,
   "id": "f2f50373",
   "metadata": {},
   "outputs": [],
   "source": [
    "#Table of parameters and test errors \n",
    "test_err_plain = np.append(cv_plain_ph[opt_ind_plain,[0,1]],errs_plain_ph)\n",
    "test_err_ordered = np.append(cv_ordered_ph[opt_ind_ordered,[0,1]],errs_ordered_ph)\n",
    "test_err_ph = np.row_stack((test_err_plain,test_err_ordered))\n",
    "np.round(test_err_ph,3)"
   ]
  },
  {
   "cell_type": "markdown",
   "id": "7e00e478",
   "metadata": {},
   "source": [
    "# Adult"
   ]
  },
  {
   "cell_type": "code",
   "execution_count": 34,
   "id": "4e5c0612",
   "metadata": {},
   "outputs": [],
   "source": [
    "params_depth = np.array([8]).reshape(-1,1)"
   ]
  },
  {
   "cell_type": "code",
   "execution_count": 35,
   "id": "5bc4cb12",
   "metadata": {},
   "outputs": [],
   "source": [
    "file_path = 'C:\\\\Users\\\\Matt\\\\Documents\\\\Python code thesis\\\\Datasets\\\\adult1.csv'\n",
    "df_adult1 = pd.read_csv(file_path,header=None)\n",
    "file_path = 'C:\\\\Users\\\\Matt\\\\Documents\\\\Python code thesis\\\\Datasets\\\\adult2.csv'\n",
    "df_adult2 = pd.read_csv(file_path,header=None)\n",
    "df_adult = pd.concat([df_adult1, df_adult2])\n",
    "df_adult.columns = [\"age\",\"workclass\",\"fnlwgt\",\"education\",\"education-num\",\"martial-status\",\"occupation\",\"relationship\",\"race\",\"sex\",\"capital-gain\",\"capital-loss\",\"hours-per-week\",\"native-country\",\"target\"]\n",
    "df_adult.replace(' ','',regex=True,inplace=True)\n",
    "df_adult['target'] = df_adult['target'].apply(lambda x: x.rstrip('.'))\n",
    "df_adult['target'] = df_adult['target'].apply(lambda x: 0 if x==\"<=50K\" else 1)"
   ]
  },
  {
   "cell_type": "code",
   "execution_count": 36,
   "id": "370557d2",
   "metadata": {},
   "outputs": [],
   "source": [
    "X_adult = df_adult.drop('target', axis = 1).copy()\n",
    "y_adult = df_adult['target'].copy()\n",
    "X_train_adult, X_test_adult, y_train_adult, y_test_adult = train_test_split(X_adult, y_adult, random_state=65, stratify=y_adult, test_size=0.2)"
   ]
  },
  {
   "cell_type": "code",
   "execution_count": 38,
   "id": "bd1cba5b",
   "metadata": {},
   "outputs": [
    {
     "name": "stderr",
     "output_type": "stream",
     "text": [
      "Change of simpleCtr will not affect combinations ctrs.\n",
      "Change of simpleCtr will not affect combinations ctrs.\n",
      "Change of simpleCtr will not affect combinations ctrs.\n"
     ]
    },
    {
     "name": "stdout",
     "output_type": "stream",
     "text": [
      "Training on fold [0/5]\n",
      "\n",
      "bestTest = 0.3395417706\n",
      "bestIteration = 952\n",
      "\n",
      "Training on fold [1/5]\n",
      "\n",
      "bestTest = 0.3493895368\n",
      "bestIteration = 783\n",
      "\n",
      "Training on fold [2/5]\n",
      "\n",
      "bestTest = 0.3391214828\n",
      "bestIteration = 659\n",
      "\n",
      "Training on fold [3/5]\n",
      "\n",
      "bestTest = 0.3392011046\n",
      "bestIteration = 796\n",
      "\n",
      "Training on fold [4/5]\n",
      "\n",
      "bestTest = 0.3474974762\n",
      "bestIteration = 607\n",
      "\n",
      "0\n"
     ]
    }
   ],
   "source": [
    "#Tuning parameters for boosting mode = Plain \n",
    "cv_plain_adult = catboost_tune_class(param_comb = params_depth, \n",
    "                                  X = X_train_adult, \n",
    "                                  y = y_train_adult,\n",
    "                                  num_iterations = 1000, \n",
    "                                  colsample = 1, \n",
    "                                  class_imbal = True, \n",
    "                                  learning_rate = 0.05, \n",
    "                                  boosting_type = 'Plain', \n",
    "                                  categorical_feat = True,\n",
    "                                  cv_metric = 'AUC')"
   ]
  },
  {
   "cell_type": "code",
   "execution_count": 39,
   "id": "e4ed6b40",
   "metadata": {
    "scrolled": false
   },
   "outputs": [
    {
     "name": "stderr",
     "output_type": "stream",
     "text": [
      "Change of simpleCtr will not affect combinations ctrs.\n",
      "Change of simpleCtr will not affect combinations ctrs.\n",
      "Change of simpleCtr will not affect combinations ctrs.\n"
     ]
    }
   ],
   "source": [
    "#Fitting optimal model for boosting mode = Plain \n",
    "opt_ind_plain = np.argmax(cv_plain_adult[:,2])\n",
    "\n",
    "catmod_plain_adult = catboost_fit_class(param_opt = cv_plain_adult[opt_ind_plain,:], \n",
    "                                     X = X_train_adult, \n",
    "                                     y = y_train_adult, \n",
    "                                     colsample = 1, \n",
    "                                     class_imbal = True, \n",
    "                                     learning_rate = 0.05, \n",
    "                                     boosting_type = 'Plain', \n",
    "                                     categorical_feat = True)\n",
    "\n",
    "#Calculating errors of model\n",
    "errs_plain_adult = errors_model(mod = catmod_plain_adult, \n",
    "                                X_test = X_test_adult, \n",
    "                                y_test = y_test_adult)"
   ]
  },
  {
   "cell_type": "code",
   "execution_count": 40,
   "id": "99261343",
   "metadata": {},
   "outputs": [
    {
     "name": "stderr",
     "output_type": "stream",
     "text": [
      "Change of simpleCtr will not affect combinations ctrs.\n",
      "Change of simpleCtr will not affect combinations ctrs.\n",
      "Change of simpleCtr will not affect combinations ctrs.\n"
     ]
    },
    {
     "name": "stdout",
     "output_type": "stream",
     "text": [
      "Training on fold [0/5]\n",
      "\n",
      "bestTest = 0.3310437155\n",
      "bestIteration = 982\n",
      "\n",
      "Training on fold [1/5]\n",
      "\n",
      "bestTest = 0.338511412\n",
      "bestIteration = 952\n",
      "\n",
      "Training on fold [2/5]\n",
      "\n",
      "bestTest = 0.3316027927\n",
      "bestIteration = 869\n",
      "\n",
      "Training on fold [3/5]\n",
      "\n",
      "bestTest = 0.3303092149\n",
      "bestIteration = 996\n",
      "\n",
      "Training on fold [4/5]\n",
      "\n",
      "bestTest = 0.3357620511\n",
      "bestIteration = 879\n",
      "\n",
      "0\n"
     ]
    }
   ],
   "source": [
    "#Tuning parameter values for boosting mode = Ordered\n",
    "cv_ordered_adult = catboost_tune_class(param_comb = params_depth, \n",
    "                                    X = X_train_adult, \n",
    "                                    y = y_train_adult, \n",
    "                                    num_iterations = 1000, \n",
    "                                    colsample = 1, \n",
    "                                    class_imbal = True, \n",
    "                                    learning_rate = 0.05, \n",
    "                                    boosting_type = 'Ordered', \n",
    "                                    categorical_feat = True,\n",
    "                                    cv_metric = 'AUC')"
   ]
  },
  {
   "cell_type": "code",
   "execution_count": 41,
   "id": "f4867478",
   "metadata": {},
   "outputs": [
    {
     "name": "stderr",
     "output_type": "stream",
     "text": [
      "Change of simpleCtr will not affect combinations ctrs.\n",
      "Change of simpleCtr will not affect combinations ctrs.\n",
      "Change of simpleCtr will not affect combinations ctrs.\n"
     ]
    }
   ],
   "source": [
    "#Fitting optimal model for boosting mode = Ordered\n",
    "opt_ind_ordered = np.argmax(cv_ordered_adult[:,2])\n",
    "\n",
    "catmod_ordered_adult = catboost_fit_class(param_opt = cv_ordered_adult[opt_ind_ordered,0:5], \n",
    "                                       X = X_train_adult, \n",
    "                                       y = y_train_adult, \n",
    "                                       colsample = 1, \n",
    "                                       class_imbal = True, \n",
    "                                       learning_rate = 0.05, \n",
    "                                       boosting_type = 'Ordered', \n",
    "                                       categorical_feat = True)\n",
    "\n",
    "#Calculating errors of model\n",
    "errs_ordered_adult = errors_model(mod = catmod_ordered_adult, \n",
    "                             X_test = X_test_adult, \n",
    "                             y_test = y_test_adult)"
   ]
  },
  {
   "cell_type": "code",
   "execution_count": 42,
   "id": "caf7b264",
   "metadata": {},
   "outputs": [
    {
     "data": {
      "text/plain": [
       "array([[   8.   ,  795.   ,    0.837,    0.72 ,    0.629,    0.933],\n",
       "       [   8.   , 1000.   ,    0.837,    0.72 ,    0.629,    0.933]])"
      ]
     },
     "execution_count": 42,
     "metadata": {},
     "output_type": "execute_result"
    }
   ],
   "source": [
    "#Table of parameters and test errors \n",
    "test_err_plain = np.append(cv_plain_adult[opt_ind_plain,[0,1]],errs_plain_adult)\n",
    "test_err_ordered = np.append(cv_ordered_adult[opt_ind_ordered,[0,1]],errs_ordered_adult)\n",
    "test_err_adult = np.row_stack((test_err_plain,test_err_ordered))\n",
    "np.round(test_err_adult,3)"
   ]
  },
  {
   "cell_type": "code",
   "execution_count": 76,
   "id": "9c1bd1c4",
   "metadata": {},
   "outputs": [
    {
     "data": {
      "text/plain": [
       "array([   8.        , 1000.        ,    0.92928774])"
      ]
     },
     "execution_count": 76,
     "metadata": {},
     "output_type": "execute_result"
    }
   ],
   "source": [
    "cv_ordered_adult[opt_ind_ordered,:]"
   ]
  },
  {
   "cell_type": "markdown",
   "id": "44f617c3",
   "metadata": {},
   "source": [
    "# Santander Customer Satisfaction"
   ]
  },
  {
   "cell_type": "code",
   "execution_count": 87,
   "id": "c447e89d",
   "metadata": {},
   "outputs": [],
   "source": [
    "#loading dataset\n",
    "import pickle\n",
    "file_name = 'customersatformat.pickle'\n",
    "file = open(file_name,'rb')\n",
    "df_sat = pickle.load(file)\n",
    "file.close()"
   ]
  },
  {
   "cell_type": "code",
   "execution_count": 88,
   "id": "f1530ed5",
   "metadata": {},
   "outputs": [],
   "source": [
    "X_sat = df_sat.drop('TARGET', axis = 1).copy()\n",
    "y_sat = df_sat['TARGET'].copy()\n",
    "X_train_sat, X_test_sat, y_train_sat, y_test_sat = train_test_split(X_sat, y_sat, random_state=71, stratify=y_sat, test_size=0.2)"
   ]
  },
  {
   "cell_type": "code",
   "execution_count": 16,
   "id": "d37f26c6",
   "metadata": {},
   "outputs": [
    {
     "name": "stderr",
     "output_type": "stream",
     "text": [
      "Change of simpleCtr will not affect combinations ctrs.\n",
      "Change of simpleCtr will not affect combinations ctrs.\n",
      "Change of simpleCtr will not affect combinations ctrs.\n"
     ]
    },
    {
     "name": "stdout",
     "output_type": "stream",
     "text": [
      "Training on fold [0/5]\n",
      "\n",
      "bestTest = 0.4915345675\n",
      "bestIteration = 99\n",
      "\n",
      "Training on fold [1/5]\n",
      "\n",
      "bestTest = 0.5234356757\n",
      "bestIteration = 98\n",
      "\n",
      "Training on fold [2/5]\n",
      "\n",
      "bestTest = 0.4995555901\n",
      "bestIteration = 99\n",
      "\n",
      "Training on fold [3/5]\n",
      "\n",
      "bestTest = 0.5095987255\n",
      "bestIteration = 99\n",
      "\n",
      "Training on fold [4/5]\n",
      "\n",
      "bestTest = 0.5152597185\n",
      "bestIteration = 99\n",
      "\n",
      "0\n",
      "Training on fold [0/5]\n"
     ]
    },
    {
     "name": "stderr",
     "output_type": "stream",
     "text": [
      "Change of simpleCtr will not affect combinations ctrs.\n",
      "Change of simpleCtr will not affect combinations ctrs.\n",
      "Change of simpleCtr will not affect combinations ctrs.\n"
     ]
    },
    {
     "name": "stdout",
     "output_type": "stream",
     "text": [
      "\n",
      "bestTest = 0.4831279368\n",
      "bestIteration = 99\n",
      "\n",
      "Training on fold [1/5]\n",
      "\n",
      "bestTest = 0.5196399421\n",
      "bestIteration = 98\n",
      "\n",
      "Training on fold [2/5]\n",
      "\n",
      "bestTest = 0.4906952434\n",
      "bestIteration = 99\n",
      "\n",
      "Training on fold [3/5]\n",
      "\n",
      "bestTest = 0.505272524\n",
      "bestIteration = 98\n",
      "\n",
      "Training on fold [4/5]\n",
      "\n",
      "bestTest = 0.5114450284\n",
      "bestIteration = 97\n",
      "\n",
      "1\n"
     ]
    }
   ],
   "source": [
    "#Tuning parameters for boosting mode = Plain \n",
    "cv_plain_sat = catboost_tune_class(param_comb = params_depth, \n",
    "                                  X = X_train_sat, \n",
    "                                  y = y_train_sat, \n",
    "                                  num_iterations = 5000, \n",
    "                                  colsample = 0.3, \n",
    "                                  class_imbal = True, \n",
    "                                  learning_rate = 0.05, \n",
    "                                  boosting_type = 'Plain', \n",
    "                                  categorical_feat = False,\n",
    "                                  metric='AUC')"
   ]
  },
  {
   "cell_type": "code",
   "execution_count": 17,
   "id": "82b26467",
   "metadata": {},
   "outputs": [
    {
     "name": "stderr",
     "output_type": "stream",
     "text": [
      "Change of simpleCtr will not affect combinations ctrs.\n",
      "Change of simpleCtr will not affect combinations ctrs.\n",
      "Change of simpleCtr will not affect combinations ctrs.\n"
     ]
    },
    {
     "name": "stdout",
     "output_type": "stream",
     "text": [
      "0:\tlearn: 0.6798010\ttotal: 351ms\tremaining: 34.8s\n",
      "10:\tlearn: 0.5906817\ttotal: 3.85s\tremaining: 31.1s\n",
      "20:\tlearn: 0.5489978\ttotal: 7.25s\tremaining: 27.3s\n",
      "30:\tlearn: 0.5277998\ttotal: 10.7s\tremaining: 23.8s\n",
      "40:\tlearn: 0.5154511\ttotal: 14.1s\tremaining: 20.3s\n",
      "50:\tlearn: 0.5076636\ttotal: 17.7s\tremaining: 17s\n",
      "60:\tlearn: 0.5015902\ttotal: 21.4s\tremaining: 13.7s\n",
      "70:\tlearn: 0.4979204\ttotal: 24.9s\tremaining: 10.2s\n",
      "80:\tlearn: 0.4950663\ttotal: 28.4s\tremaining: 6.66s\n",
      "90:\tlearn: 0.4923824\ttotal: 31.9s\tremaining: 3.16s\n",
      "99:\tlearn: 0.4903611\ttotal: 35s\tremaining: 0us\n"
     ]
    }
   ],
   "source": [
    "#Fitting optimal model for boosting mode = Plain \n",
    "opt_ind_plain = np.argmin(cv_plain_sat[:,2])\n",
    "\n",
    "catmod_plain_sat = catboost_fit_class(param_opt = cv_plain_sat[opt_ind_plain,:], \n",
    "                                     X = X_train_sat, \n",
    "                                     y = y_train_sat,  \n",
    "                                     colsample = 0.3, \n",
    "                                     class_imbal = True, \n",
    "                                     learning_rate = 0.05, \n",
    "                                     boosting_type = 'Plain', \n",
    "                                     categorical_feat = True)\n",
    "\n",
    "#Calculating errors of model\n",
    "errs_plain_sat = errors_model(mod = catmod_plain_sat, \n",
    "                             X_test = X_test_sat, \n",
    "                             y_test = y_test_sat)"
   ]
  },
  {
   "cell_type": "code",
   "execution_count": 19,
   "id": "ccf23351",
   "metadata": {},
   "outputs": [
    {
     "name": "stderr",
     "output_type": "stream",
     "text": [
      "Change of simpleCtr will not affect combinations ctrs.\n",
      "Change of simpleCtr will not affect combinations ctrs.\n",
      "Change of simpleCtr will not affect combinations ctrs.\n"
     ]
    },
    {
     "name": "stdout",
     "output_type": "stream",
     "text": [
      "Training on fold [0/5]\n",
      "\n",
      "bestTest = 0.4928853309\n",
      "bestIteration = 99\n",
      "\n",
      "Training on fold [1/5]\n",
      "\n",
      "bestTest = 0.5254160024\n",
      "bestIteration = 99\n",
      "\n",
      "Training on fold [2/5]\n",
      "\n",
      "bestTest = 0.5006916553\n",
      "bestIteration = 99\n",
      "\n",
      "Training on fold [3/5]\n",
      "\n",
      "bestTest = 0.5102025688\n",
      "bestIteration = 99\n",
      "\n",
      "Training on fold [4/5]\n",
      "\n",
      "bestTest = 0.5167438337\n",
      "bestIteration = 99\n",
      "\n",
      "0\n",
      "Training on fold [0/5]\n"
     ]
    },
    {
     "name": "stderr",
     "output_type": "stream",
     "text": [
      "Change of simpleCtr will not affect combinations ctrs.\n",
      "Change of simpleCtr will not affect combinations ctrs.\n",
      "Change of simpleCtr will not affect combinations ctrs.\n"
     ]
    },
    {
     "name": "stdout",
     "output_type": "stream",
     "text": [
      "\n",
      "bestTest = 0.4830293898\n",
      "bestIteration = 99\n",
      "\n",
      "Training on fold [1/5]\n",
      "\n",
      "bestTest = 0.5219971892\n",
      "bestIteration = 96\n",
      "\n",
      "Training on fold [2/5]\n",
      "\n",
      "bestTest = 0.4931625813\n",
      "bestIteration = 99\n",
      "\n",
      "Training on fold [3/5]\n",
      "\n",
      "bestTest = 0.5066379311\n",
      "bestIteration = 99\n",
      "\n",
      "Training on fold [4/5]\n",
      "\n",
      "bestTest = 0.5118442145\n",
      "bestIteration = 99\n",
      "\n",
      "1\n"
     ]
    }
   ],
   "source": [
    "#Tuning parameter values for boosting mode = Ordered\n",
    "cv_ordered_sat = catboost_tune_class(param_comb = params_depth, \n",
    "                                    X = X_train_sat, \n",
    "                                    y = y_train_sat, \n",
    "                                    num_iterations = 5000, \n",
    "                                    colsample = 0.3, \n",
    "                                    class_imbal = True, \n",
    "                                    learning_rate = 0.05, \n",
    "                                    boosting_type = 'Ordered', \n",
    "                                    categorical_feat = True)"
   ]
  },
  {
   "cell_type": "code",
   "execution_count": 20,
   "id": "12ce83c3",
   "metadata": {},
   "outputs": [
    {
     "name": "stderr",
     "output_type": "stream",
     "text": [
      "Change of simpleCtr will not affect combinations ctrs.\n",
      "Change of simpleCtr will not affect combinations ctrs.\n",
      "Change of simpleCtr will not affect combinations ctrs.\n"
     ]
    },
    {
     "name": "stdout",
     "output_type": "stream",
     "text": [
      "0:\tlearn: 0.6798010\ttotal: 400ms\tremaining: 39.6s\n",
      "10:\tlearn: 0.5906817\ttotal: 4.4s\tremaining: 35.6s\n",
      "20:\tlearn: 0.5489978\ttotal: 8.36s\tremaining: 31.5s\n",
      "30:\tlearn: 0.5277998\ttotal: 12.5s\tremaining: 27.7s\n",
      "40:\tlearn: 0.5154511\ttotal: 16.5s\tremaining: 23.8s\n",
      "50:\tlearn: 0.5076636\ttotal: 20.7s\tremaining: 19.9s\n",
      "60:\tlearn: 0.5015902\ttotal: 24.8s\tremaining: 15.9s\n",
      "70:\tlearn: 0.4979204\ttotal: 28.8s\tremaining: 11.8s\n",
      "80:\tlearn: 0.4950663\ttotal: 32.9s\tremaining: 7.73s\n",
      "90:\tlearn: 0.4923824\ttotal: 37s\tremaining: 3.66s\n",
      "99:\tlearn: 0.4903611\ttotal: 40.6s\tremaining: 0us\n"
     ]
    }
   ],
   "source": [
    "#Fitting optimal model for boosting mode = Ordered\n",
    "opt_ind_ordered = np.argmin(cv_ordered_sat[:,2])\n",
    "\n",
    "catmod_ordered_sat = catboost_fit_class(param_opt = cv_ordered_sat[opt_ind_ordered,:], \n",
    "                                       X = X_train_sat, \n",
    "                                       y = y_train_sat,  \n",
    "                                       colsample = 0.3, \n",
    "                                       class_imbal = True, \n",
    "                                       learning_rate = 0.05, \n",
    "                                       boosting_type = 'Ordered', \n",
    "                                       categorical_feat = True)\n",
    "\n",
    "#Calculating errors of model\n",
    "errs_ordered_sat = errors_model(mod = catmod_ordered_sat, \n",
    "                             X_test = X_test_sat, \n",
    "                             y_test = y_test_sat)"
   ]
  },
  {
   "cell_type": "code",
   "execution_count": 21,
   "id": "3701d4c3",
   "metadata": {},
   "outputs": [
    {
     "data": {
      "text/plain": [
       "array([[8.   , 0.766, 0.2  , 0.227, 0.831],\n",
       "       [8.   , 0.766, 0.2  , 0.227, 0.831]])"
      ]
     },
     "execution_count": 21,
     "metadata": {},
     "output_type": "execute_result"
    }
   ],
   "source": [
    "#Table of parameters and test errors \n",
    "test_err_plain = np.append(cv_plain_sat[opt_ind_plain,0],errs_plain_sat)\n",
    "test_err_ordered = np.append(cv_ordered_sat[opt_ind_ordered,0],errs_ordered_sat)\n",
    "test_err_sat = np.row_stack((test_err_plain,test_err_ordered))\n",
    "np.round(test_err_sat,3)"
   ]
  },
  {
   "cell_type": "code",
   "execution_count": 19,
   "id": "44aed488",
   "metadata": {},
   "outputs": [],
   "source": [
    "np.set_printoptions(suppress=True)"
   ]
  }
 ],
 "metadata": {
  "kernelspec": {
   "display_name": "Python 3 (ipykernel)",
   "language": "python",
   "name": "python3"
  },
  "language_info": {
   "codemirror_mode": {
    "name": "ipython",
    "version": 3
   },
   "file_extension": ".py",
   "mimetype": "text/x-python",
   "name": "python",
   "nbconvert_exporter": "python",
   "pygments_lexer": "ipython3",
   "version": "3.9.13"
  }
 },
 "nbformat": 4,
 "nbformat_minor": 5
}
